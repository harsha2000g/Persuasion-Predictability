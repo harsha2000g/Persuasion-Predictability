{
 "cells": [
  {
   "cell_type": "code",
   "execution_count": 32,
   "metadata": {},
   "outputs": [
    {
     "name": "stdout",
     "output_type": "stream",
     "text": [
      "Requirement already satisfied: openai in c:\\users\\samavedam\\miniconda3\\envs\\datascience\\lib\\site-packages (1.54.1)\n",
      "Requirement already satisfied: sniffio in c:\\users\\samavedam\\miniconda3\\envs\\datascience\\lib\\site-packages (from openai) (1.3.1)\n",
      "Requirement already satisfied: typing-extensions<5,>=4.11 in c:\\users\\samavedam\\miniconda3\\envs\\datascience\\lib\\site-packages (from openai) (4.12.2)\n",
      "Requirement already satisfied: tqdm>4 in c:\\users\\samavedam\\miniconda3\\envs\\datascience\\lib\\site-packages (from openai) (4.65.0)\n",
      "Requirement already satisfied: jiter<1,>=0.4.0 in c:\\users\\samavedam\\miniconda3\\envs\\datascience\\lib\\site-packages (from openai) (0.7.0)\n",
      "Requirement already satisfied: distro<2,>=1.7.0 in c:\\users\\samavedam\\miniconda3\\envs\\datascience\\lib\\site-packages (from openai) (1.9.0)\n",
      "Requirement already satisfied: pydantic<3,>=1.9.0 in c:\\users\\samavedam\\miniconda3\\envs\\datascience\\lib\\site-packages (from openai) (1.10.7)\n",
      "Requirement already satisfied: anyio<5,>=3.5.0 in c:\\users\\samavedam\\miniconda3\\envs\\datascience\\lib\\site-packages (from openai) (4.6.2.post1)\n",
      "Requirement already satisfied: httpx<1,>=0.23.0 in c:\\users\\samavedam\\miniconda3\\envs\\datascience\\lib\\site-packages (from openai) (0.27.2)\n",
      "Requirement already satisfied: exceptiongroup>=1.0.2 in c:\\users\\samavedam\\miniconda3\\envs\\datascience\\lib\\site-packages (from anyio<5,>=3.5.0->openai) (1.2.2)\n",
      "Requirement already satisfied: idna>=2.8 in c:\\users\\samavedam\\miniconda3\\envs\\datascience\\lib\\site-packages (from anyio<5,>=3.5.0->openai) (3.3)\n",
      "Requirement already satisfied: certifi in c:\\users\\samavedam\\miniconda3\\envs\\datascience\\lib\\site-packages (from httpx<1,>=0.23.0->openai) (2022.12.7)\n",
      "Requirement already satisfied: httpcore==1.* in c:\\users\\samavedam\\miniconda3\\envs\\datascience\\lib\\site-packages (from httpx<1,>=0.23.0->openai) (1.0.6)\n",
      "Requirement already satisfied: h11<0.15,>=0.13 in c:\\users\\samavedam\\miniconda3\\envs\\datascience\\lib\\site-packages (from httpcore==1.*->httpx<1,>=0.23.0->openai) (0.14.0)\n",
      "Requirement already satisfied: colorama in c:\\users\\samavedam\\miniconda3\\envs\\datascience\\lib\\site-packages (from tqdm>4->openai) (0.4.6)\n"
     ]
    },
    {
     "name": "stderr",
     "output_type": "stream",
     "text": [
      "\n",
      "[notice] A new release of pip is available: 23.0.1 -> 24.3.1\n",
      "[notice] To update, run: python.exe -m pip install --upgrade pip\n"
     ]
    }
   ],
   "source": [
    "!pip install openai "
   ]
  },
  {
   "cell_type": "code",
   "execution_count": 33,
   "metadata": {},
   "outputs": [],
   "source": [
    "# Importing Libraries\n",
    "\n",
    "import numpy as np\n",
    "import pandas as pd\n",
    "import matplotlib.pyplot as plt\n",
    "import seaborn as sns\n",
    "import openai\n",
    "import json\n",
    "import os\n",
    "from tqdm import tqdm"
   ]
  },
  {
   "cell_type": "code",
   "execution_count": null,
   "metadata": {},
   "outputs": [],
   "source": [
    "def analyze_text(text):\n",
    "    prompt = f\"\"\"\n",
    "        Analyze the following dialogue and extract persuasion-related factors. \n",
    "        For each factor listed below, provide a single-word answer (\"Yes\" or \"No\") in JSON format. \n",
    "        For factors like argument type and concreteness, provide the appropriate label \n",
    "        (e.g., \"Logical\", \"Emotional\", or \"Concrete\", \"Abstract\").\n",
    "\n",
    "        ### Factors:\n",
    "        1. Framing (Yes/No)\n",
    "        2. Priming (Yes/No)\n",
    "        3. Repetition (Yes/No)\n",
    "        4. Narrative/Story (Yes/No)\n",
    "        5. Reciprocity (Yes/No)\n",
    "        6. Commitment and Consistency (Yes/No)\n",
    "        7. Social Proof (Yes/No)\n",
    "        8. Scarcity (Yes/No)\n",
    "        9. Authority (Yes/No)\n",
    "        10. Liking (Yes/No)\n",
    "        11. Argument Type (\"Logical\" or \"Emotional\")\n",
    "        12. Hedging and Politeness (Yes/No)\n",
    "        13. Pronoun Use (\"we\", \"us\") (Yes/No)\n",
    "        14. Active Tense (Yes/No)\n",
    "        15. Concreteness (\"Concrete\" or \"Abstract\")\n",
    "        16. Linguistic Fluency (Yes/No)\n",
    "        17. Linguistic Mirroring (Yes/No)\n",
    "        18. Credibility Markers (Yes/No)\n",
    "        19. Certainty Markers (Yes/No)\n",
    "        20. Rhetorical Questions (Yes/No)\n",
    "\n",
    "        ### Dialogue:\n",
    "        {text}\n",
    "        \"\"\"\n",
    "    open_api_key = os.environ.get(\"OPENAI_API_KEY\")\n",
    "    client = openai.OpenAI(api_key=open_api_key)\n",
    "    response = client.chat.completions.create(\n",
    "            model=\"gpt-4o-mini\",\n",
    "            messages=[\n",
    "                {\"role\": \"system\", \"content\": \"You are a helpful assistant that analyzes the dialogue \\\n",
    "                                                for persuasive elements. Just answer in one word.\"},\n",
    "                {\"role\": \"user\", \"content\": f\"Analyze the following text:\\n\\n{prompt}\"}\n",
    "            ]\n",
    "        )\n",
    "    output = response.choices[0].message.content.strip()\n",
    "    cleaned_string = output.strip().strip(\"'\").replace('```json\\n', '').replace('```', '').replace('\\n', '')\n",
    "\n",
    "    # Convert the cleaned string into a Python dictionary (JSON object)\n",
    "    json_object = json.loads(cleaned_string)\n",
    "\n",
    "    return json_object\n"
   ]
  },
  {
   "cell_type": "code",
   "execution_count": 35,
   "metadata": {},
   "outputs": [],
   "source": [
    "text = \"\"\"Persuader: Hey, how are you doing, have you ever heard of a charity called Save the Children?\n",
    "Persuadee: No I havent.\n",
    "Persuadee: What is it about?\n",
    "Persuader: It's an international organization that promotes children's rights, provides relief and helps support children in developing countries, does that sound like something you'd get behind?\n",
    "Persuadee: No thank you.\n",
    "Persuader: May I ask why?\n",
    "Persuader: Your help could really make a difference in a child's life, think of a child who didn't have enough to eat, just a small bit of help may have saved them, are you sure you're not interested?\n",
    "Persuadee: I am already making a difference in many children lives.\n",
    "Persuader: That's great, it sounds like it's an issue you really care about then, why not put some of that effort into a charity that's doing really great work like Save the Children?\n",
    "Persuadee: I have donated 15 years of my life to charity\n",
    "Persuader: I'm not asking you to donate years of your life, just a couple of cents if possible, is that something you could possibly do tonight?\n",
    "Persuadee: No thank you\n",
    "Persuader: You're probably on a computer right now, so you probably have quite a bit of money yourself, don't you think you could spare maybe 25 cents for some needy children around the world?\n",
    "Persuadee: No thank you\n",
    "Persuader: Do you have children yourself?\n",
    "Persuader: What if your children were in a position these kids are in, wouldn't you want someone to help them?\n",
    "Persuadee: Where are those childrens parent?\n",
    "Persuader: If only they had parental support, but in war-torn countries like Syria their parents are being killed in wars or are fighting for their country, they have no help and that's why they need your support, please find it in your heart to just give a little bit tonight, that's all I'm asking.\n",
    "Persuadee: My small change won't do a thing for those kids.\n",
    "Persuadee: What they need is to be extracted from those countries so that they can have a better life not 0.25\n",
    "Persuader: Well with our current president it's not likely they're going to be brought the US, so they need any help they can get, and 25 cents might not seem like a lot, but if 10000 people donated 25 cents then the impact will be huge.\n",
    "Persuader: I understand it may not seem like a lot, but it can really make a difference\n",
    "Persuader: You can donate some or all of your payment from this task to Save the Children, i'd really appreciate it if you did, but I understand if you still don't want to\n",
    "Persuader: What do you say?\n",
    "Persuadee: If it makes you happy, go ahead and take .50\n",
    "Persuader: Oh thank you so much, you have no idea how much that .50 will mean to those children, thank you very much and have a wonderful night you blessed soul.\n",
    "Persuadee: No problem have a good night\n",
    "\"\"\""
   ]
  },
  {
   "cell_type": "code",
   "execution_count": 36,
   "metadata": {},
   "outputs": [],
   "source": [
    "tmp = analyze_text(text)"
   ]
  },
  {
   "cell_type": "code",
   "execution_count": 37,
   "metadata": {},
   "outputs": [
    {
     "data": {
      "text/html": [
       "<div>\n",
       "<style scoped>\n",
       "    .dataframe tbody tr th:only-of-type {\n",
       "        vertical-align: middle;\n",
       "    }\n",
       "\n",
       "    .dataframe tbody tr th {\n",
       "        vertical-align: top;\n",
       "    }\n",
       "\n",
       "    .dataframe thead th {\n",
       "        text-align: right;\n",
       "    }\n",
       "</style>\n",
       "<table border=\"1\" class=\"dataframe\">\n",
       "  <thead>\n",
       "    <tr style=\"text-align: right;\">\n",
       "      <th></th>\n",
       "      <th>B2</th>\n",
       "      <th>Combined_Text</th>\n",
       "    </tr>\n",
       "  </thead>\n",
       "  <tbody>\n",
       "    <tr>\n",
       "      <th>0</th>\n",
       "      <td>20180717-200206_41_live</td>\n",
       "      <td>Persuader: Hey, how are you doing, have you ev...</td>\n",
       "    </tr>\n",
       "    <tr>\n",
       "      <th>1</th>\n",
       "      <td>20180719-120436_413_live</td>\n",
       "      <td>Persuader: Hi there\\r\\nPersuadee: Hello\\r\\nPer...</td>\n",
       "    </tr>\n",
       "    <tr>\n",
       "      <th>2</th>\n",
       "      <td>20180719-122534_38_live</td>\n",
       "      <td>Persuader: It would be really helpful if you d...</td>\n",
       "    </tr>\n",
       "    <tr>\n",
       "      <th>3</th>\n",
       "      <td>20180719-165941_192_live</td>\n",
       "      <td>Persuader: Hello\\r\\nPersuadee: Yea, hello.\\r\\n...</td>\n",
       "    </tr>\n",
       "    <tr>\n",
       "      <th>4</th>\n",
       "      <td>20180719-175233_833_live</td>\n",
       "      <td>Persuader: Hey there\\r\\nPersuadee: Hey how's i...</td>\n",
       "    </tr>\n",
       "  </tbody>\n",
       "</table>\n",
       "</div>"
      ],
      "text/plain": [
       "                         B2                                      Combined_Text\n",
       "0   20180717-200206_41_live  Persuader: Hey, how are you doing, have you ev...\n",
       "1  20180719-120436_413_live  Persuader: Hi there\\r\\nPersuadee: Hello\\r\\nPer...\n",
       "2   20180719-122534_38_live  Persuader: It would be really helpful if you d...\n",
       "3  20180719-165941_192_live  Persuader: Hello\\r\\nPersuadee: Yea, hello.\\r\\n...\n",
       "4  20180719-175233_833_live  Persuader: Hey there\\r\\nPersuadee: Hey how's i..."
      ]
     },
     "execution_count": 37,
     "metadata": {},
     "output_type": "execute_result"
    }
   ],
   "source": [
    "#### Data\n",
    "\n",
    "import pandas as pd\n",
    "\n",
    "# Load the persuasion data under the data folder\n",
    "dialog_data = pd.read_excel('data\\\\persuasion_for_good\\\\300_dialog.xlsx')\n",
    "\n",
    "result = dialog_data.groupby('B2').apply(\n",
    "    lambda x: f'{os.linesep}'.join(f\"{'Persuadee' if row['B4'] == 1 else 'Persuader'}: {row['Unit']}\" for _, row in x.iterrows())\n",
    ").reset_index(name='Combined_Text')\n",
    "\n",
    "result.head()"
   ]
  },
  {
   "cell_type": "code",
   "execution_count": null,
   "metadata": {},
   "outputs": [
    {
     "name": "stderr",
     "output_type": "stream",
     "text": [
      " 16%|█▋        | 49/300 [03:24<17:29,  4.18s/it]\n"
     ]
    }
   ],
   "source": [
    "\n",
    "# result['Analysis'] = result['Combined_Text'].apply(analyze_text)\n",
    "# Modify the code to do in a iterative fashion\n",
    "\n",
    "# Create an empty list to store the results\n",
    "# results = []\n",
    "# i = 0\n",
    "# # Iterate over each dialogue in the dataset\n",
    "# for dialog in tqdm(result['Combined_Text']):\n",
    "#     # Analyze the dialogue\n",
    "#     analysis = analyze_text(dialog)\n",
    "#     # Append the results to the list\n",
    "#     results.append(analysis)\n",
    "#     i += 1\n",
    "#     if i % 50 ==0:\n",
    "#         break"
   ]
  },
  {
   "cell_type": "markdown",
   "metadata": {},
   "source": []
  },
  {
   "cell_type": "code",
   "execution_count": 51,
   "metadata": {},
   "outputs": [
    {
     "name": "stderr",
     "output_type": "stream",
     "text": [
      "100%|██████████| 300/300 [17:12<00:00,  3.44s/it]\n"
     ]
    }
   ],
   "source": [
    "dummy = []\n",
    "i = 0\n",
    "# Iterate over each dialogue in the dataset\n",
    "for dialog in tqdm(result['Combined_Text']):\n",
    "    # Analyze the dialogue\n",
    "    analysis = analyze_text(dialog)\n",
    "    # Append the results to the list\n",
    "    dummy.append(analysis)"
   ]
  },
  {
   "cell_type": "code",
   "execution_count": 68,
   "metadata": {},
   "outputs": [],
   "source": [
    "# Convert the dictionary into columns and add to the results dataframe\n",
    "res_df = pd.DataFrame(dummy)\n",
    "res_df.to_csv('data\\\\persuasion_analysis.csv', index=False)"
   ]
  },
  {
   "cell_type": "code",
   "execution_count": 69,
   "metadata": {},
   "outputs": [],
   "source": [
    "result_df = pd.concat([result, res_df], axis=1)"
   ]
  },
  {
   "cell_type": "markdown",
   "metadata": {},
   "source": [
    "Code:\n",
    "```# If Framing is NaN, set it from the column \"1\"\n",
    "# If Priming is NaN, set it from the column \"2\"\n",
    "# If Repetition is NaN, set it from the column \"3\"\n",
    "# If Narrative/Story is NaN, set it from the column \"4\"\n",
    "# If Reciprocity is NaN, set it from the column \"5\"\n",
    "# If Commitment and Consistency is NaN, set it from the column \"6\"\n",
    "# If Social Proof is NaN, set it from the column \"7\"\n",
    "# If Scarcity is NaN, set it from the column \"8\"\n",
    "# If Authority is NaN, set it from the column \"9\"\n",
    "# If Liking is NaN, set it from the column \"10\"\n",
    "# If Argument Type is NaN, set it from the column \"11\"\n",
    "# If Hedging and Politeness is NaN, set it from the column \"12\"\n",
    "# If Pronoun Use is NaN, set it from the column \"13\"\n",
    "# If Active Tense is NaN, set it from the column \"14\"\n",
    "# If Concreteness is NaN, set it from the column \"15\"\n",
    "# If Linguistic Fluency is NaN, set it from the column \"16\"\n",
    "# If Linguistic Mirroring is NaN, set it from the column \"17\"\n",
    "# If Credibility Markers is NaN, set it from the column \"18\"\n",
    "# If Certainty Markers is NaN, set it from the column \"19\"\n",
    "# If Rhetorical Questions is NaN, set it from the column \"20\"```"
   ]
  },
  {
   "cell_type": "code",
   "execution_count": 70,
   "metadata": {},
   "outputs": [],
   "source": [
    "# Fill NaN values based on the specified columns\n",
    "columns_mapping = {\n",
    "    'Framing': '1',\n",
    "    'Priming': '2',\n",
    "    'Repetition': '3',\n",
    "    'Narrative/Story': '4',\n",
    "    'Reciprocity': '5',\n",
    "    'Commitment and Consistency': '6',\n",
    "    'Social Proof': '7',\n",
    "    'Scarcity': '8',\n",
    "    'Authority': '9',\n",
    "    'Liking': '10',\n",
    "    'Argument Type': '11',\n",
    "    'Hedging and Politeness': '12',\n",
    "    'Pronoun Use': '13',\n",
    "    'Active Tense': '14',\n",
    "    'Concreteness': '15',\n",
    "    'Linguistic Fluency': '16',\n",
    "    'Linguistic Mirroring': '17',\n",
    "    'Credibility Markers': '18',\n",
    "    'Certainty Markers': '19',\n",
    "    'Rhetorical Questions': '20'\n",
    "}\n",
    "\n",
    "for column, fill_column in columns_mapping.items():\n",
    "    result_df[column].fillna(result_df[fill_column], inplace=True)"
   ]
  },
  {
   "cell_type": "code",
   "execution_count": 73,
   "metadata": {},
   "outputs": [],
   "source": [
    "# result_df.isna().sum() # no missing values now\n",
    "\n",
    "# Drop the value columns\n",
    "result_df.drop(columns=columns_mapping.values(), inplace=True, axis=1)\n",
    "\n",
    "result_df.to_csv('data\\\\pfg_metrics.csv', index=False)"
   ]
  }
 ],
 "metadata": {
  "kernelspec": {
   "display_name": "DataScience",
   "language": "python",
   "name": "python3"
  },
  "language_info": {
   "codemirror_mode": {
    "name": "ipython",
    "version": 3
   },
   "file_extension": ".py",
   "mimetype": "text/x-python",
   "name": "python",
   "nbconvert_exporter": "python",
   "pygments_lexer": "ipython3",
   "version": "3.9.12"
  }
 },
 "nbformat": 4,
 "nbformat_minor": 2
}
