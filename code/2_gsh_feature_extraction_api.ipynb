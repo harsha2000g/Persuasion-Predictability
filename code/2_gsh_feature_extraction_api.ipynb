{
 "cells": [
  {
   "cell_type": "code",
   "execution_count": 8,
   "metadata": {},
   "outputs": [
    {
     "name": "stdout",
     "output_type": "stream",
     "text": [
      "Requirement already satisfied: openai in c:\\users\\samavedam\\miniconda3\\envs\\datascience\\lib\\site-packages (1.54.1)\n",
      "Requirement already satisfied: distro<2,>=1.7.0 in c:\\users\\samavedam\\miniconda3\\envs\\datascience\\lib\\site-packages (from openai) (1.9.0)\n",
      "Requirement already satisfied: pydantic<3,>=1.9.0 in c:\\users\\samavedam\\miniconda3\\envs\\datascience\\lib\\site-packages (from openai) (1.10.7)\n",
      "Requirement already satisfied: sniffio in c:\\users\\samavedam\\miniconda3\\envs\\datascience\\lib\\site-packages (from openai) (1.3.1)\n",
      "Requirement already satisfied: tqdm>4 in c:\\users\\samavedam\\miniconda3\\envs\\datascience\\lib\\site-packages (from openai) (4.65.0)\n",
      "Requirement already satisfied: httpx<1,>=0.23.0 in c:\\users\\samavedam\\miniconda3\\envs\\datascience\\lib\\site-packages (from openai) (0.27.2)\n",
      "Requirement already satisfied: jiter<1,>=0.4.0 in c:\\users\\samavedam\\miniconda3\\envs\\datascience\\lib\\site-packages (from openai) (0.7.0)\n",
      "Requirement already satisfied: typing-extensions<5,>=4.11 in c:\\users\\samavedam\\miniconda3\\envs\\datascience\\lib\\site-packages (from openai) (4.12.2)\n",
      "Requirement already satisfied: anyio<5,>=3.5.0 in c:\\users\\samavedam\\miniconda3\\envs\\datascience\\lib\\site-packages (from openai) (4.6.2.post1)\n",
      "Requirement already satisfied: exceptiongroup>=1.0.2 in c:\\users\\samavedam\\miniconda3\\envs\\datascience\\lib\\site-packages (from anyio<5,>=3.5.0->openai) (1.2.2)\n",
      "Requirement already satisfied: idna>=2.8 in c:\\users\\samavedam\\miniconda3\\envs\\datascience\\lib\\site-packages (from anyio<5,>=3.5.0->openai) (3.3)\n",
      "Requirement already satisfied: httpcore==1.* in c:\\users\\samavedam\\miniconda3\\envs\\datascience\\lib\\site-packages (from httpx<1,>=0.23.0->openai) (1.0.6)\n",
      "Requirement already satisfied: certifi in c:\\users\\samavedam\\miniconda3\\envs\\datascience\\lib\\site-packages (from httpx<1,>=0.23.0->openai) (2022.12.7)\n",
      "Requirement already satisfied: h11<0.15,>=0.13 in c:\\users\\samavedam\\miniconda3\\envs\\datascience\\lib\\site-packages (from httpcore==1.*->httpx<1,>=0.23.0->openai) (0.14.0)\n",
      "Requirement already satisfied: colorama in c:\\users\\samavedam\\miniconda3\\envs\\datascience\\lib\\site-packages (from tqdm>4->openai) (0.4.6)\n"
     ]
    },
    {
     "name": "stderr",
     "output_type": "stream",
     "text": [
      "\n",
      "[notice] A new release of pip is available: 23.0.1 -> 24.3.1\n",
      "[notice] To update, run: python.exe -m pip install --upgrade pip\n"
     ]
    }
   ],
   "source": [
    "!pip install openai"
   ]
  },
  {
   "cell_type": "code",
   "execution_count": 9,
   "metadata": {},
   "outputs": [],
   "source": [
    "# Importing Libraries\n",
    "\n",
    "import numpy as np\n",
    "import pandas as pd\n",
    "import matplotlib.pyplot as plt\n",
    "import seaborn as sns\n",
    "import openai\n",
    "import json\n",
    "import os\n",
    "from tqdm import tqdm"
   ]
  },
  {
   "cell_type": "code",
   "execution_count": 10,
   "metadata": {},
   "outputs": [
    {
     "name": "stderr",
     "output_type": "stream",
     "text": [
      "3939it [3:15:27,  2.98s/it]\n"
     ]
    }
   ],
   "source": [
    "def analyze_text(text):\n",
    "    prompts = {\n",
    "        \"framing\": \"Does this argument use framing techniques? Respond with only 'Yes' or 'No'.\",\n",
    "        \"priming\": \"Does this argument use priming techniques? Respond with only 'Yes' or 'No'.\",\n",
    "        \"argument_type\": \"Does this argument primarily use logical reasoning and evidence or emotional appeals? Respond with only 'Logical' or 'Emotional'.\",\n",
    "        \"hedging\": \"Does this text contain hedging language like 'may', 'might', 'possibly'? Yes or No?\",\n",
    "        \"pronoun_use\": \"Does this text use inclusive pronouns like 'we' and 'us'? Yes or No?\",\n",
    "        \"active_tense\": \"Is this text primarily written in active tense? Yes or No?\",\n",
    "        \"concreteness\": \"Does this text use mostly concrete language or abstract concepts? Respond with 'Concrete' or 'Abstract'.\"\n",
    "        # \"credibility_markers\": \"Does this text use credibility markers like citing experts or statistics? Yes or No?\",\n",
    "        # \"certainty_markers\": \"Does this text use certainty markers like 'definitely' or 'for sure'? Yes or No?\",\n",
    "        # \"rhetorical_questions\": \"Does this text use rhetorical questions as a persuasive strategy? Yes or No?\"\n",
    "    }\n",
    "\n",
    "    results = {}\n",
    "    open_api_key = os.environ.get(\"OPENAI_API_KEY\")\n",
    "    client = openai.OpenAI(api_key=open_api_key)\n",
    "    for metric, prompt in prompts.items():\n",
    "        response = client.chat.completions.create(\n",
    "            model=\"gpt-4o-mini\",\n",
    "            messages=[\n",
    "                {\"role\": \"system\", \"content\": \"You are a helpful assistant that analyzes the claim and its argument for persuasive elements. Just answer in one word.\"},\n",
    "                {\"role\": \"user\", \"content\": f\"Analyze the following text:\\n\\n{text}\\n\\n{prompt}\"}\n",
    "            ]\n",
    "        )\n",
    "        results[metric] = response.choices[0].message.content.strip()\n",
    "\n",
    "    return results\n",
    "\n",
    "\n",
    "# Load the dataset\n",
    "dataset = pd.read_csv(\"data/persuasion_data.csv\")\n",
    "\n",
    "# Create empty lists to store the results\n",
    "all_metrics = []\n",
    "all_claims = []\n",
    "all_arguments = []\n",
    "\n",
    "# Process each example in the dataset\n",
    "for i, row in tqdm(dataset.iterrows()):\n",
    "    claim = row['claim']\n",
    "    argument = row['argument']\n",
    "    \n",
    "    try:\n",
    "        metrics = analyze_text(\"This is the claim \\n\" + claim + \"\\n\" + \"The argument for claim is \\n\" + argument)\n",
    "        all_metrics.append(metrics)\n",
    "        # print(f\"Processed claim: {claim[:50]}...\")\n",
    "    except Exception as e:\n",
    "        all_metrics.append(\"\")\n",
    "        # print(f\"An error occurred: {str(e)}\")\n",
    "\n",
    "    # if i == 5:\n",
    "    #     break\n",
    "\n",
    "metrics_df = pd.DataFrame(all_metrics)\n",
    "metrics_df.to_csv(\"data/base_metrics.csv\", index=False)"
   ]
  },
  {
   "cell_type": "code",
   "execution_count": 11,
   "metadata": {},
   "outputs": [
    {
     "data": {
      "text/plain": [
       "{'framing': 'Yes',\n",
       " 'priming': 'Yes',\n",
       " 'argument_type': 'Logical',\n",
       " 'hedging': 'No.',\n",
       " 'pronoun_use': 'Yes.',\n",
       " 'active_tense': 'No.',\n",
       " 'concreteness': 'Abstract'}"
      ]
     },
     "execution_count": 11,
     "metadata": {},
     "output_type": "execute_result"
    }
   ],
   "source": [
    "all_metrics[-1]"
   ]
  },
  {
   "cell_type": "code",
   "execution_count": 12,
   "metadata": {},
   "outputs": [
    {
     "name": "stdout",
     "output_type": "stream",
     "text": [
      "Processing complete. Results saved to CSV files.\n"
     ]
    }
   ],
   "source": [
    "# Create DataFrames\n",
    "dataset[\"metrics\"] = all_metrics\n",
    "\n",
    "# Save to CSV files\n",
    "dataset.to_csv('data/metrics.csv', index=False)\n",
    "\n",
    "print(\"Processing complete. Results saved to CSV files.\")"
   ]
  }
 ],
 "metadata": {
  "kernelspec": {
   "display_name": "DataScience",
   "language": "python",
   "name": "python3"
  },
  "language_info": {
   "codemirror_mode": {
    "name": "ipython",
    "version": 3
   },
   "file_extension": ".py",
   "mimetype": "text/x-python",
   "name": "python",
   "nbconvert_exporter": "python",
   "pygments_lexer": "ipython3",
   "version": "3.9.12"
  }
 },
 "nbformat": 4,
 "nbformat_minor": 2
}
