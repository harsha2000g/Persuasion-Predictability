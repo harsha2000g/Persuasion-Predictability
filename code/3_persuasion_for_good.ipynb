{
 "cells": [
  {
   "cell_type": "code",
   "execution_count": null,
   "metadata": {},
   "outputs": [],
   "source": [
    "## B5 - Persuadee only \n",
    "## B6 - Both Persuader and Persuadee\n",
    "import pandas as pd\n",
    "\n",
    "# Load the persuasion data under the data folder\n",
    "dialog_data = pd.read_excel('data\\\\persuasion_for_good\\\\300_dialog.xlsx')\n",
    "dialog_data.head()"
   ]
  },
  {
   "cell_type": "code",
   "execution_count": null,
   "metadata": {},
   "outputs": [],
   "source": []
  }
 ],
 "metadata": {
  "kernelspec": {
   "display_name": "DataScience",
   "language": "python",
   "name": "python3"
  },
  "language_info": {
   "codemirror_mode": {
    "name": "ipython",
    "version": 3
   },
   "file_extension": ".py",
   "mimetype": "text/x-python",
   "name": "python",
   "nbconvert_exporter": "python",
   "pygments_lexer": "ipython3",
   "version": "3.9.12"
  }
 },
 "nbformat": 4,
 "nbformat_minor": 2
}
